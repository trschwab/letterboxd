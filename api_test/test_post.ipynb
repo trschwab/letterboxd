{
 "cells": [
  {
   "cell_type": "code",
   "execution_count": 1,
   "metadata": {},
   "outputs": [],
   "source": [
    "import requests"
   ]
  },
  {
   "cell_type": "code",
   "execution_count": 2,
   "metadata": {},
   "outputs": [],
   "source": [
    "data = {\n",
    "    \"name\": \"post test from python\",\n",
    "    \"day\": \"26\",\n",
    "    \"film\": \"Oppenheimer\",\n",
    "    \"released\": \"2023\",\n",
    "    \"rating\": \"0\",\n",
    "}"
   ]
  },
  {
   "cell_type": "code",
   "execution_count": 6,
   "metadata": {},
   "outputs": [],
   "source": [
    "r = requests.post(\"http://127.0.0.1:8000/add/\", data=data)"
   ]
  },
  {
   "cell_type": "code",
   "execution_count": 7,
   "metadata": {},
   "outputs": [
    {
     "data": {
      "text/plain": [
       "b'{\"id\":5,\"name\":\"post test from python\",\"day\":\"26\",\"film\":\"Oppenheimer\",\"released\":\"2023\",\"rating\":\"0\",\"created\":\"2023-11-27T18:30:09.860377Z\"}'"
      ]
     },
     "execution_count": 7,
     "metadata": {},
     "output_type": "execute_result"
    }
   ],
   "source": [
    "r.content"
   ]
  },
  {
   "cell_type": "code",
   "execution_count": 8,
   "metadata": {},
   "outputs": [],
   "source": [
    "r = requests.get(\"http://127.0.0.1:8000/\")"
   ]
  },
  {
   "cell_type": "code",
   "execution_count": 12,
   "metadata": {},
   "outputs": [
    {
     "data": {
      "text/plain": [
       "b'[{\"id\":1,\"name\":\"Item #1\",\"day\":\"0\",\"film\":\"0\",\"released\":\"0\",\"rating\":\"0\",\"created\":\"2023-11-27T06:24:32.977666Z\"},{\"id\":2,\"name\":\"Item #2\",\"day\":\"0\",\"film\":\"0\",\"released\":\"0\",\"rating\":\"0\",\"created\":\"2023-11-27T06:24:36.230533Z\"},{\"id\":3,\"name\":\"Item #3\",\"day\":\"0\",\"film\":\"0\",\"released\":\"0\",\"rating\":\"0\",\"created\":\"2023-11-27T06:24:37.830675Z\"},{\"id\":4,\"name\":\"post test\",\"day\":\"0\",\"film\":\"0\",\"released\":\"0\",\"rating\":\"0\",\"created\":\"2023-11-27T06:31:14.242802Z\"},{\"id\":5,\"name\":\"post test from python\",\"day\":\"26\",\"film\":\"Oppenheimer\",\"released\":\"2023\",\"rating\":\"0\",\"created\":\"2023-11-27T18:30:09.860377Z\"}]'"
      ]
     },
     "execution_count": 12,
     "metadata": {},
     "output_type": "execute_result"
    }
   ],
   "source": [
    "r.content"
   ]
  },
  {
   "cell_type": "code",
   "execution_count": null,
   "metadata": {},
   "outputs": [],
   "source": []
  }
 ],
 "metadata": {
  "kernelspec": {
   "display_name": "Python 3",
   "language": "python",
   "name": "python3"
  },
  "language_info": {
   "codemirror_mode": {
    "name": "ipython",
    "version": 3
   },
   "file_extension": ".py",
   "mimetype": "text/x-python",
   "name": "python",
   "nbconvert_exporter": "python",
   "pygments_lexer": "ipython3",
   "version": "3.9.5"
  }
 },
 "nbformat": 4,
 "nbformat_minor": 2
}
